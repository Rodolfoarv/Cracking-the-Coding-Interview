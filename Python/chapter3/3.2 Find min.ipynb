{
 "cells": [
  {
   "cell_type": "markdown",
   "metadata": {},
   "source": [
    "# 3.2 Finding the minimum element on a stack\n",
    "\n",
    "How would you design a stack, in addition to push and pop, also has a function min which returns the minimum element? Push, pop and min should operate in O(1) time"
   ]
  },
  {
   "cell_type": "markdown",
   "metadata": {},
   "source": [
    "# First solution\n",
    "\n",
    "The first solution that occur is to keep a variable with the minimum value on the stack; however when we begin poping elements from the stack, eventually there will be a new minimum and we will have to recur the stack once again, making the constraint of min to be O(1) not satisfiable, so this is not a viable solution."
   ]
  },
  {
   "cell_type": "markdown",
   "metadata": {},
   "source": [
    "# Second solution\n",
    "\n",
    "We can keep track of the minimum at each state, when we push an element onto the stack, the element is given the current minimum and its sets its local minimum to be the minimum, it is implemented as follows:"
   ]
  },
  {
   "cell_type": "code",
   "execution_count": 23,
   "metadata": {
    "collapsed": true
   },
   "outputs": [],
   "source": [
    "class StackWithMin:\n",
    "    def __init__(self):\n",
    "        self.items = []\n",
    "    \n",
    "    def push(self, value):\n",
    "        # Create a new node min\n",
    "        \n",
    "        if self.isEmpty():\n",
    "            node = NodeWithMin(value, value)\n",
    "        else:\n",
    "            current_min = min(value,self.peek().minimum)\n",
    "            node = NodeWithMin(value, current_min) \n",
    "        self.items.append(node)\n",
    "    \n",
    "    def pop(self):\n",
    "        return self.items.pop()\n",
    "    \n",
    "    def peek(self):\n",
    "        return self.items[len(self.items) - 1]\n",
    "    \n",
    "    def min(self):\n",
    "        return self.peek().minimum\n",
    "    \n",
    "    def isEmpty(self):\n",
    "        if len(self.items) == 0: \n",
    "            return True\n",
    "        return False\n",
    "\n",
    "class NodeWithMin:\n",
    "    def __init__(self, value, minimum):\n",
    "        self.value = value\n",
    "        self.minimum = minimum\n",
    "\n"
   ]
  },
  {
   "cell_type": "code",
   "execution_count": 31,
   "metadata": {
    "collapsed": false
   },
   "outputs": [
    {
     "name": "stdout",
     "output_type": "stream",
     "text": [
      "1\n"
     ]
    },
    {
     "data": {
      "text/plain": [
       "<__main__.NodeWithMin at 0x7fb48edd2978>"
      ]
     },
     "execution_count": 31,
     "metadata": {},
     "output_type": "execute_result"
    }
   ],
   "source": [
    "items = [5,3,2,1,5,6,7,8,9]\n",
    "s = StackWithMin()\n",
    "for item in items:\n",
    "    s.push(item)\n",
    "    \n",
    "print(s.min())"
   ]
  }
 ],
 "metadata": {
  "kernelspec": {
   "display_name": "Python 3",
   "language": "python",
   "name": "python3"
  },
  "language_info": {
   "codemirror_mode": {
    "name": "ipython",
    "version": 3
   },
   "file_extension": ".py",
   "mimetype": "text/x-python",
   "name": "python",
   "nbconvert_exporter": "python",
   "pygments_lexer": "ipython3",
   "version": "3.6.4"
  }
 },
 "nbformat": 4,
 "nbformat_minor": 2
}
