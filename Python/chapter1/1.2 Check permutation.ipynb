{
 "cells": [
  {
   "cell_type": "markdown",
   "metadata": {},
   "source": [
    "# 1.2 Check permutation\n",
    "\n",
    "Given two strings, write a method if one is permutation of the other"
   ]
  },
  {
   "cell_type": "markdown",
   "metadata": {},
   "source": [
    "# Solution #1 Using dictionaries. Complexity of the algorithm O(n)"
   ]
  },
  {
   "cell_type": "code",
   "execution_count": 33,
   "metadata": {
    "collapsed": false
   },
   "outputs": [],
   "source": [
    "def isAnagram(a, b):\n",
    "    if len(a) != len(b): return False\n",
    "    \n",
    "    a = a.lower()\n",
    "    b = b.lower()\n",
    "    d = {}\n",
    "    for char in a:\n",
    "        d[char] = d.get(char, 0) + 1\n",
    "    \n",
    "    for char in b:\n",
    "        value = d.get(char)\n",
    "        if value == None: return False\n",
    "        if value == 1:\n",
    "            d.pop(char)\n",
    "        else:\n",
    "            d[char] -= 1\n",
    "    return True\n",
    "        \n"
   ]
  },
  {
   "cell_type": "code",
   "execution_count": 34,
   "metadata": {
    "collapsed": false
   },
   "outputs": [
    {
     "name": "stderr",
     "output_type": "stream",
     "text": [
      ".\n",
      "----------------------------------------------------------------------\n",
      "Ran 1 test in 0.001s\n",
      "\n",
      "OK\n"
     ]
    }
   ],
   "source": [
    "# Test cases for this example\n",
    "\n",
    "import unittest\n",
    "\n",
    "class TestIsAnagram(unittest.TestCase):\n",
    "    true_data = [('dog', 'god'), ('rodolfo', 'oflodor'), ('duran', 'narud'), ('Starcraft', 'starcraft')]\n",
    "    false_data = [('dogg', 'god'), ('1zacqqwer', '1zacqqweq'), ('rod', 'rod      ')]\n",
    "    \n",
    "    def test_anagram(self):\n",
    "        #True test cases\n",
    "        for a,b in self.true_data:\n",
    "            actual = isAnagram(a,b)\n",
    "            self.assertTrue(actual)\n",
    "        for a,b in self.false_data:\n",
    "            actual = isAnagram(a,b)\n",
    "            self.assertFalse(actual)\n",
    "            \n",
    "if __name__ == '__main__':\n",
    "    unittest.main(argv=['first-arg-is-ignored'], exit=False)\n",
    "        \n",
    "        "
   ]
  },
  {
   "cell_type": "markdown",
   "metadata": {},
   "source": [
    "# Solution #2 Sorting the string and then comparing if they are equal"
   ]
  },
  {
   "cell_type": "code",
   "execution_count": 40,
   "metadata": {
    "collapsed": false
   },
   "outputs": [
    {
     "ename": "SyntaxError",
     "evalue": "invalid syntax (<ipython-input-40-434c564bdb9b>, line 14)",
     "output_type": "error",
     "traceback": [
      "\u001b[0;36m  File \u001b[0;32m\"<ipython-input-40-434c564bdb9b>\"\u001b[0;36m, line \u001b[0;32m14\u001b[0m\n\u001b[0;31m    def TestIsAnagramSorting(unittest.TestCase):\u001b[0m\n\u001b[0m                                     ^\u001b[0m\n\u001b[0;31mSyntaxError\u001b[0m\u001b[0;31m:\u001b[0m invalid syntax\n"
     ]
    }
   ],
   "source": [
    "def isAnagramSorting(a,b):\n",
    "    if len(a) != len(b) : return False\n",
    "    \n",
    "    #Converting them to lowercase\n",
    "    a = a.lower()\n",
    "    b = b.lower()\n",
    "    \n",
    "    #Sorting both of them, could do this on one line however prefered verbose for explanation\n",
    "    a = ''.join(sorted(a))\n",
    "    b = ''.join(sorted(b))\n",
    "    return True if a == b else False\n",
    "    \n",
    "    \n",
    "def TestIsAnagramSorting(unittest.TestCase):\n",
    "    true_data = [('dog', 'god'), ('rodolfo', 'oflodor'), ('duran', 'narud'), ('Starcraft', 'starcraft')]\n",
    "    false_data = [('dogg', 'god'), ('1zacqqwer', '1zacqqweq'), ('rod', 'rod      ')]\n",
    "        \n",
    "    def test_anagram(self):\n",
    "        #True test cases\n",
    "        for a,b in self.true_data:\n",
    "            actual = isAnagramSorting(a,b)\n",
    "            self.assertTrue(actual)\n",
    "        for a,b in self.false_data:\n",
    "            actual = isAnagramSorting(a,b)\n",
    "            self.assertFalse(actual)\n",
    "            \n",
    "if __name__ == '__main__':\n",
    "    unittest.main(argv=['first-arg-is-ignored'], exit=False)\n",
    "    \n",
    "    \n",
    "    "
   ]
  },
  {
   "cell_type": "code",
   "execution_count": 37,
   "metadata": {
    "collapsed": false
   },
   "outputs": [
    {
     "name": "stdout",
     "output_type": "stream",
     "text": [
      "bcvxz\n"
     ]
    }
   ],
   "source": []
  }
 ],
 "metadata": {
  "kernelspec": {
   "display_name": "Python 3",
   "language": "python",
   "name": "python3"
  },
  "language_info": {
   "codemirror_mode": {
    "name": "ipython",
    "version": 3
   },
   "file_extension": ".py",
   "mimetype": "text/x-python",
   "name": "python",
   "nbconvert_exporter": "python",
   "pygments_lexer": "ipython3",
   "version": "3.6.4"
  }
 },
 "nbformat": 4,
 "nbformat_minor": 2
}
