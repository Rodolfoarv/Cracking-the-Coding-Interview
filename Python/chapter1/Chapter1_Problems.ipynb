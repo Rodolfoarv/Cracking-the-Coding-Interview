{
 "cells": [
  {
   "cell_type": "markdown",
   "metadata": {},
   "source": [
    "# 1.1 isUnique\n",
    "\n",
    "Implement an algorithm to determine if a string has all unique characters"
   ]
  },
  {
   "cell_type": "code",
   "execution_count": 43,
   "metadata": {
    "collapsed": false
   },
   "outputs": [
    {
     "name": "stderr",
     "output_type": "stream",
     "text": [
      "..\n",
      "----------------------------------------------------------------------\n",
      "Ran 2 tests in 0.001s\n",
      "\n",
      "OK\n"
     ]
    }
   ],
   "source": [
    "import unittest\n",
    "\n",
    "def isUnique_array(sequence):\n",
    "    #Implementation with array and unicode\n",
    "    if len(sequence) > 128:\n",
    "        return False\n",
    "    \n",
    "    char_set = [False for i in range(128)]\n",
    "    for char in sequence:\n",
    "        value = ord(char) # get the unicode value of the character\n",
    "        if char_set[value]:\n",
    "            return False\n",
    "        else:\n",
    "            char_set[value] = True\n",
    "    return True\n",
    "\n",
    "def isUnique(sequence):\n",
    "    #Implementation with hash map\n",
    "    if len(sequence) > 128:\n",
    "        return False\n",
    "    \n",
    "    d = {}\n",
    "    for char in sequence:\n",
    "        if char in d:\n",
    "            return False\n",
    "        else:\n",
    "            d[char] = True\n",
    "    return True\n",
    "\n",
    "\n",
    "\n",
    "\n",
    "# Test cases for this example\n",
    "\n",
    "class TestUnique(unittest.TestCase):\n",
    "    true_data = ['abcdefghijklmnopqrstuv', '1a2b3c4d5e', '', 'zZxXyY']\n",
    "    false_data = [('23az23bc'), ('[](){}abcda')]\n",
    "    \n",
    "    def test_unique(self):\n",
    "        # True checks\n",
    "        for test_string in self.true_data:\n",
    "            actual = isUnique_array(test_string)\n",
    "            self.assertTrue(actual)\n",
    "        # False checks\n",
    "        for test_string in self.false_data:\n",
    "            actual = isUnique_array(test_string)\n",
    "            self.assertFalse(actual)\n",
    "\n",
    "if __name__ == '__main__':\n",
    "    unittest.main(argv=['first-arg-is-ignored'], exit=False)"
   ]
  },
  {
   "cell_type": "code",
   "execution_count": null,
   "metadata": {
    "collapsed": true
   },
   "outputs": [],
   "source": [
    "arr = [1,2,3,4,5]\n",
    "arr.get"
   ]
  }
 ],
 "metadata": {
  "kernelspec": {
   "display_name": "Python 3",
   "language": "python",
   "name": "python3"
  },
  "language_info": {
   "codemirror_mode": {
    "name": "ipython",
    "version": 3
   },
   "file_extension": ".py",
   "mimetype": "text/x-python",
   "name": "python",
   "nbconvert_exporter": "python",
   "pygments_lexer": "ipython3",
   "version": "3.6.4"
  }
 },
 "nbformat": 4,
 "nbformat_minor": 2
}
