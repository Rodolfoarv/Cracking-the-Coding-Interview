{
 "cells": [
  {
   "cell_type": "markdown",
   "metadata": {},
   "source": [
    "# 1.6 String Compression\n",
    "\n",
    "Implement a method to perform basic string compression using the coutns of repeated characters. For example, the string aabcccccaaa would become a2b1c5a3. If the compressed string would not become smaller than the original string, your method should return the original string. You can assume the string has only uppercase and lowercase letters.\n"
   ]
  },
  {
   "cell_type": "code",
   "execution_count": 1,
   "metadata": {
    "collapsed": false
   },
   "outputs": [
    {
     "name": "stderr",
     "output_type": "stream",
     "text": [
      ".\n",
      "----------------------------------------------------------------------\n",
      "Ran 1 test in 0.001s\n",
      "\n",
      "OK\n"
     ]
    }
   ],
   "source": [
    "import unittest\n",
    "\n",
    "def string_compression(sequence):\n",
    "    '''Complexity of the algorithm is O(n), it is also optimized by using the join\n",
    "    function, by concatenating the algorithm would be O(n + k^2 )'''\n",
    "    current = sequence[0]\n",
    "    count = 0\n",
    "    compressed = []\n",
    "    \n",
    "    for char in sequence:\n",
    "        if current != char:\n",
    "            compressed.append(current + str(count))\n",
    "            current = char\n",
    "            count = 0\n",
    "        count += 1\n",
    "            \n",
    "    compressed.append(current + str(count))\n",
    "    \n",
    "    return min(''.join(compressed), sequence, key=len)\n",
    "\n",
    "class Test(unittest.TestCase):\n",
    "    data = [\n",
    "        ('aabcccccaaa', 'a2b1c5a3'),\n",
    "        ('abcd', 'abcd'),\n",
    "        ('aabbccddee', 'a2b2c2d2e2'),\n",
    "        ('abcdef', 'abcdef'),\n",
    "        ('aaaaaaaaaaaaaaaaaaa', 'a19')\n",
    "    ]\n",
    "    \n",
    "    def test_string_compression(self):\n",
    "        for test_string, expected in self.data:\n",
    "            actual = string_compression(test_string)\n",
    "            self.assertEqual(actual,expected)\n",
    "            \n",
    "if __name__ == '__main__':\n",
    "    unittest.main(argv=['first-arg-is-ignored'], exit=False)\n",
    "    "
   ]
  },
  {
   "cell_type": "code",
   "execution_count": 2,
   "metadata": {
    "collapsed": false
   },
   "outputs": [
    {
     "data": {
      "text/plain": [
       "1.0"
      ]
     },
     "execution_count": 2,
     "metadata": {},
     "output_type": "execute_result"
    }
   ],
   "source": [
    "float(1)"
   ]
  }
 ],
 "metadata": {
  "kernelspec": {
   "display_name": "Python 3",
   "language": "python",
   "name": "python3"
  },
  "language_info": {
   "codemirror_mode": {
    "name": "ipython",
    "version": 3
   },
   "file_extension": ".py",
   "mimetype": "text/x-python",
   "name": "python",
   "nbconvert_exporter": "python",
   "pygments_lexer": "ipython3",
   "version": "3.6.4"
  }
 },
 "nbformat": 4,
 "nbformat_minor": 2
}
