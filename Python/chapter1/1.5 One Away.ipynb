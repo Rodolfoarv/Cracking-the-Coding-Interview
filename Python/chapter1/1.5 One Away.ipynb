{
 "cells": [
  {
   "cell_type": "markdown",
   "metadata": {},
   "source": [
    "# 1.5 One away\n",
    "\n",
    "There are three types of edits that can be performed on strings: insert a character, remove a character, or replace a character. Given two strings, write a function to check if they are one edit or zero edits away\n",
    "\n",
    "# O(n) complexity, it has to recur the modification string in every algorithm"
   ]
  },
  {
   "cell_type": "code",
   "execution_count": 5,
   "metadata": {
    "collapsed": false
   },
   "outputs": [
    {
     "data": {
      "text/plain": [
       "True"
      ]
     },
     "execution_count": 5,
     "metadata": {},
     "output_type": "execute_result"
    }
   ],
   "source": [
    "def oneAway(original, modification):\n",
    "    '''Returns true if the original and modification string are at most one step away\n",
    "    from each other. The logic is as follows\n",
    "    \n",
    "    We compare both strings length  which handles the following cases:\n",
    "    \n",
    "    - If the different on lengths is more than 1, then the program raises an excepetion\n",
    "    - If the strings are of equal length this means that a modification on a character\n",
    "    is going to be looked up, however if there is more than one modification the program\n",
    "    returns False, oneAway_modification\n",
    "    - If the original string is bigger than the modificated string this means a deletion\n",
    "    happened oneAway_insertion\n",
    "    - If the original string is smmaller than the modificated string, this means an insertion\n",
    "    happened and oneAway_insertion is used\n",
    "    \n",
    "    Insertion and Deletion are handled in the same method since we can interchange the \n",
    "    original string with the modifcated string and look for a possible insertion\n",
    "    \n",
    "    '''\n",
    "    \n",
    "    \n",
    "    if abs(len(original) - len(modification)) > 1:\n",
    "        raise ValueError('The lenghts of the strings are different')\n",
    "        \n",
    "    if len(original) == len(modification) : #This means that the string is a modification\n",
    "        return oneAway_modification(original,modification)\n",
    "    elif len(original) + 1 == len(modification):\n",
    "        return oneAway_insertion(original, modification)\n",
    "    elif len(original) - 1 == len(modification):\n",
    "        return oneAway_insertion(modification, original)\n",
    "    return False\n",
    "    \n",
    "        \n",
    "\n",
    "def oneAway_modification(original, modification):\n",
    "    edited = False\n",
    "    for char1, char2 in zip(original, modification):\n",
    "        if char1 != char2:\n",
    "            if edited:\n",
    "                return False\n",
    "            edited = True\n",
    "    return True\n",
    "\n",
    "def oneAway_insertion(original,modification):\n",
    "    edited = False\n",
    "    i = j = 0\n",
    "    while i < len(original) and j < len(modification):\n",
    "        if original[i] != modification[j]:\n",
    "            if edited:\n",
    "                return False\n",
    "            edited = True\n",
    "            j += 1\n",
    "        else:\n",
    "            i += 1\n",
    "            j += 1\n",
    "    return True\n",
    "\n",
    "oneAway('pale', 'bale')"
   ]
  },
  {
   "cell_type": "code",
   "execution_count": 6,
   "metadata": {
    "collapsed": false
   },
   "outputs": [
    {
     "name": "stderr",
     "output_type": "stream",
     "text": [
      ".\n",
      "----------------------------------------------------------------------\n",
      "Ran 1 test in 0.001s\n",
      "\n",
      "OK\n"
     ]
    }
   ],
   "source": [
    "import unittest\n",
    "\n",
    "class Test(unittest.TestCase):\n",
    "    data = [\n",
    "        ('pale', 'bale', True),\n",
    "        ('pales', 'pale', True),\n",
    "        ('pale', 'ple', True),\n",
    "        ('paleabc', 'pleabc', True),\n",
    "        ('pale', 'ble', False),\n",
    "        ('panda', 'pandas', True),\n",
    "        ('panda', 'banda', True),\n",
    "        ('panda', 'pand', True),\n",
    "        ('panda', 'band', False),\n",
    "    ]\n",
    "    \n",
    "    def test_one_away(self):\n",
    "        for s1, s2, expected in self.data:\n",
    "            actual = oneAway(s1,s2)\n",
    "            self.assertEqual(actual,expected)\n",
    "            \n",
    "if __name__ == '__main__':\n",
    "    unittest.main(argv=['first-arg-is-ignored'], exit=False)\n",
    "    "
   ]
  }
 ],
 "metadata": {
  "kernelspec": {
   "display_name": "Python 3",
   "language": "python",
   "name": "python3"
  },
  "language_info": {
   "codemirror_mode": {
    "name": "ipython",
    "version": 3
   },
   "file_extension": ".py",
   "mimetype": "text/x-python",
   "name": "python",
   "nbconvert_exporter": "python",
   "pygments_lexer": "ipython3",
   "version": "3.6.4"
  }
 },
 "nbformat": 4,
 "nbformat_minor": 2
}
