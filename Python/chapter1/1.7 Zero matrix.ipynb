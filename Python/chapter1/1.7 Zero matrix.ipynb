{
 "cells": [
  {
   "cell_type": "markdown",
   "metadata": {},
   "source": [
    "# 1.7 Zero matrix\n",
    "\n",
    "Write an algorithm such that if an element in an MxN matrix is 0, its entire row and column are set to 0\n",
    "\n",
    "# Complexity of the algorithm O(MxN)"
   ]
  },
  {
   "cell_type": "code",
   "execution_count": 16,
   "metadata": {
    "collapsed": false
   },
   "outputs": [],
   "source": [
    "def zero_matrix(matrix):\n",
    "    '''The algorithm works as following: first of all it finds all the positions\n",
    "    where a number 0 is located and appends its row and column location in separate\n",
    "    arrays. Once this has been done two procedures will be called depending if its\n",
    "    a column or a row with the zeor_column and zero_row respectively with a for loop\n",
    "    \n",
    "    The zero_row and zero_column recieve as parameter the current column or row and\n",
    "    the total matrix, so they can modify it in place. This way it will recur through\n",
    "    the matrix and edit the values to zero\n",
    "    \n",
    "    The complexity of'''\n",
    "    \n",
    "    m = len(matrix)\n",
    "    n = len(matrix[0])\n",
    "    \n",
    "    rows_modification = []\n",
    "    columns_modification = []\n",
    "    \n",
    "    for x in range(m):\n",
    "        for y in range(n):\n",
    "            if matrix[x][y] == 0:\n",
    "                rows_modification.append(x)\n",
    "                columns_modification.append(y)\n",
    "    \n",
    "    for x in rows_modification:\n",
    "        zero_row(x, matrix)\n",
    "        \n",
    "    for y in columns_modification:\n",
    "        zero_column(y, matrix)\n",
    "        \n",
    "    return matrix\n",
    "        \n",
    "def zero_row(row, matrix):\n",
    "    n = len(matrix[0])\n",
    "    for i in range(n):\n",
    "        matrix[row][i] = 0\n",
    "\n",
    "def zero_column(column, matrix):\n",
    "    m = len(matrix)\n",
    "    for j in range(m):\n",
    "        matrix[j][column] = 0\n",
    "        \n",
    "\n",
    "                \n",
    "    "
   ]
  },
  {
   "cell_type": "code",
   "execution_count": 23,
   "metadata": {
    "collapsed": false
   },
   "outputs": [
    {
     "name": "stderr",
     "output_type": "stream",
     "text": [
      ".\n",
      "----------------------------------------------------------------------\n",
      "Ran 1 test in 0.001s\n",
      "\n",
      "OK\n"
     ]
    }
   ],
   "source": [
    "import unittest\n",
    "\n",
    "class Test(unittest.TestCase):\n",
    "    data = [\n",
    "        ([\n",
    "            [1, 2, 3, 4, 0],\n",
    "            [6, 0, 8, 9, 10],\n",
    "            [11, 12, 13, 14, 15],\n",
    "            [16, 0, 18, 19, 20],\n",
    "            [21, 22, 23, 24, 25]\n",
    "        ], [\n",
    "            [0, 0, 0, 0, 0],\n",
    "            [0, 0, 0, 0, 0],\n",
    "            [11, 0, 13, 14, 0],\n",
    "            [0, 0, 0, 0, 0],\n",
    "            [21, 0, 23, 24, 0]\n",
    "        ])\n",
    "    ]\n",
    "    \n",
    "    def test_zero_matrix(self):\n",
    "        for test_matrix, expected in self.data:\n",
    "            actual = zero_matrix(test_matrix)\n",
    "            self.assertEqual(actual, expected)\n",
    "            \n",
    "if __name__ == '__main__':\n",
    "    unittest.main(argv=['first-arg-is-ignored'], exit=False)\n",
    "    \n"
   ]
  }
 ],
 "metadata": {
  "kernelspec": {
   "display_name": "Python 3",
   "language": "python",
   "name": "python3"
  },
  "language_info": {
   "codemirror_mode": {
    "name": "ipython",
    "version": 3
   },
   "file_extension": ".py",
   "mimetype": "text/x-python",
   "name": "python",
   "nbconvert_exporter": "python",
   "pygments_lexer": "ipython3",
   "version": "3.6.4"
  }
 },
 "nbformat": 4,
 "nbformat_minor": 2
}
