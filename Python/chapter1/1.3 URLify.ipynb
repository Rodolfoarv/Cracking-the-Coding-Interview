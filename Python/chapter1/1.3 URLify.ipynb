{
 "cells": [
  {
   "cell_type": "markdown",
   "metadata": {},
   "source": [
    "# 1.3 URLify\n",
    "\n",
    "Write a method to replace all spaces in a string with '%20'. You may assume that the string has sufficient space at the end to holdl the additional characters, and that you are given the true length  of the string"
   ]
  },
  {
   "cell_type": "code",
   "execution_count": 29,
   "metadata": {
    "collapsed": false
   },
   "outputs": [
    {
     "data": {
      "text/plain": [
       "'much%20ado%20about%20nothing'"
      ]
     },
     "execution_count": 29,
     "metadata": {},
     "output_type": "execute_result"
    }
   ],
   "source": [
    "def URLify(sequence, length):\n",
    "    '''This function replaces single spaces with %20'''\n",
    "    to_array = list(sequence)\n",
    "    for i in range(len(to_array)):\n",
    "        if to_array[i] == \" \":\n",
    "            to_array[i] = \"%20\"\n",
    "    result = ''.join(to_array)\n",
    "    return result\n",
    "\n",
    "URLify('much ado about nothing', 20)"
   ]
  },
  {
   "cell_type": "markdown",
   "metadata": {},
   "source": [
    "# Complexity of this algorithm is O(3n) = O(n)\n",
    "\n",
    "- O(n) for converting the string to an array\n",
    "- O(n) for traversing the array and sustitute the spaces with the %20\n",
    "- O(n) for the join operation to make it a string again"
   ]
  },
  {
   "cell_type": "code",
   "execution_count": 35,
   "metadata": {
    "collapsed": false
   },
   "outputs": [],
   "source": [
    "def URLify_reversed(sequence, length):\n",
    "    '''This function replaces single spaces with %20 starting on reverse order'''\n",
    "    \n",
    "    index_update = len(sequence)\n",
    "    \n",
    "    for i in reversed(range(length)):\n",
    "        if sequence[i] == ' ':\n",
    "            # Replace spaces now\n",
    "            sequence[index_update - 3:index_update] = '%20'\n",
    "            index_update -= 3\n",
    "        else:\n",
    "            #Move the characters\n",
    "            index_update -= 1\n",
    "            sequence[index_update] = sequence[i]\n",
    "    return sequence\n",
    "            "
   ]
  },
  {
   "cell_type": "markdown",
   "metadata": {},
   "source": [
    "# Complexity of this algorithm is O(n) for traversing the list and sustituting the values"
   ]
  }
 ],
 "metadata": {
  "kernelspec": {
   "display_name": "Python 3",
   "language": "python",
   "name": "python3"
  },
  "language_info": {
   "codemirror_mode": {
    "name": "ipython",
    "version": 3
   },
   "file_extension": ".py",
   "mimetype": "text/x-python",
   "name": "python",
   "nbconvert_exporter": "python",
   "pygments_lexer": "ipython3",
   "version": "3.6.4"
  }
 },
 "nbformat": 4,
 "nbformat_minor": 2
}
