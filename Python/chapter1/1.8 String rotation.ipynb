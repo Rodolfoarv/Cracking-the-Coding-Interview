{
 "cells": [
  {
   "cell_type": "markdown",
   "metadata": {},
   "source": [
    "# 1.8 String rotation\n",
    "\n",
    " Assume  you  have a method isSubstring which checks if one word is a substring of another. Given two strings s1 and s2 write code to check if s2 is a rotation of s1 using only one call to isSubstring for example \"waterbottle\" and \"erbottlewar\""
   ]
  },
  {
   "cell_type": "code",
   "execution_count": 5,
   "metadata": {
    "collapsed": false
   },
   "outputs": [
    {
     "name": "stderr",
     "output_type": "stream",
     "text": [
      "F\n",
      "======================================================================\n",
      "FAIL: test_stirng_rotation (__main__.Test)\n",
      "----------------------------------------------------------------------\n",
      "Traceback (most recent call last):\n",
      "  File \"<ipython-input-5-51253b256a1b>\", line 21, in test_stirng_rotation\n",
      "    self.assertEqual(actual,expected)\n",
      "AssertionError: False != True\n",
      "\n",
      "----------------------------------------------------------------------\n",
      "Ran 1 test in 0.001s\n",
      "\n",
      "FAILED (failures=1)\n"
     ]
    }
   ],
   "source": [
    "import unittest\n",
    "\n",
    "def isSubstring(s1,s2):\n",
    "    return s1 in s2\n",
    "\n",
    "def string_rotation(s1, s2):\n",
    "    if len(s1) != len(s2):\n",
    "        return False\n",
    "    return isSubstring(s1+s1, s2)\n",
    "\n",
    "class Test(unittest.TestCase):\n",
    "    data = [\n",
    "        ('waterbottle', 'erbottlewat', True),\n",
    "        ('rodolfo', 'rodo', False),\n",
    "        ('google', 'glegoo', True)\n",
    "    ]\n",
    "    \n",
    "    def test_stirng_rotation(self):\n",
    "        for s1, s2, expected in self.data:\n",
    "            actual = string_rotation(s1,s2)\n",
    "            self.assertEqual(actual,expected)\n",
    "\n",
    "if __name__ == '__main__':\n",
    "    unittest.main(argv=['first-arg-is-ignored'], exit=False)\n",
    "    \n",
    "    \n",
    "    \n",
    "    "
   ]
  },
  {
   "cell_type": "code",
   "execution_count": 6,
   "metadata": {
    "collapsed": false
   },
   "outputs": [
    {
     "data": {
      "text/plain": [
       "False"
      ]
     },
     "execution_count": 6,
     "metadata": {},
     "output_type": "execute_result"
    }
   ],
   "source": [
    "string_rotation('waterbottle', 'erbottlewat')\n",
    "\n",
    "s1 = 'waterbottle'\n"
   ]
  },
  {
   "cell_type": "code",
   "execution_count": 2,
   "metadata": {
    "collapsed": false
   },
   "outputs": [
    {
     "data": {
      "text/plain": [
       "True"
      ]
     },
     "execution_count": 2,
     "metadata": {},
     "output_type": "execute_result"
    }
   ],
   "source": [
    "s1 = \"rodolfo\"\n",
    "s2 = \"rodo\"\n",
    "\n",
    "s2 in s1"
   ]
  }
 ],
 "metadata": {
  "kernelspec": {
   "display_name": "Python 3",
   "language": "python",
   "name": "python3"
  },
  "language_info": {
   "codemirror_mode": {
    "name": "ipython",
    "version": 3
   },
   "file_extension": ".py",
   "mimetype": "text/x-python",
   "name": "python",
   "nbconvert_exporter": "python",
   "pygments_lexer": "ipython3",
   "version": "3.6.4"
  }
 },
 "nbformat": 4,
 "nbformat_minor": 2
}
