{
 "cells": [
  {
   "cell_type": "markdown",
   "metadata": {},
   "source": [
    "# 1.8 String rotation\n",
    "\n",
    " Assume  you  have a method isSubstring which checks if one word is a substring of another. Given two strings s1 and s2 write code to check if s2 is a rotation of s1 using only one call to isSubstring for example \"waterbottle\" and \"erbottlewar\"\n",
    " \n",
    " # Complexity of the algorithm O(n)"
   ]
  },
  {
   "cell_type": "code",
   "execution_count": 12,
   "metadata": {
    "collapsed": false
   },
   "outputs": [
    {
     "name": "stderr",
     "output_type": "stream",
     "text": [
      ".\n",
      "----------------------------------------------------------------------\n",
      "Ran 1 test in 0.001s\n",
      "\n",
      "OK\n"
     ]
    }
   ],
   "source": [
    "import unittest\n",
    "\n",
    "def isSubstring(s1,s2):\n",
    "    '''Method that returns True if s2 is contained in s1'''\n",
    "    return s2 in s1\n",
    "\n",
    "def string_rotation(s1, s2):\n",
    "    '''Method that verifies if a s2 is a rotation of s1, the algorithm procedure\n",
    "    works as follows:\n",
    "    \n",
    "    Checks if the length are equal, if not returns False.\n",
    "    After this, concatenates the string s1 to produce the same string in the middle of it\n",
    "    and check whether or not s2 is contained in s1.\n",
    "    \n",
    "    The complexity of the algorithm is O(n)'''\n",
    "    \n",
    "    \n",
    "    if len(s1) != len(s2):\n",
    "        return False\n",
    "    return isSubstring(s1+s1, s2)\n",
    "\n",
    "class Test(unittest.TestCase):\n",
    "    data = [\n",
    "        ('waterbottle', 'erbottlewat', True),\n",
    "        ('rodolfo', 'rodo', False),\n",
    "        ('google', 'glegoo', True)\n",
    "    ]\n",
    "    \n",
    "    def test_stirng_rotation(self):\n",
    "        for s1, s2, expected in self.data:\n",
    "            actual = string_rotation(s1,s2)\n",
    "            self.assertEqual(actual,expected)\n",
    "\n",
    "if __name__ == '__main__':\n",
    "    unittest.main(argv=['first-arg-is-ignored'], exit=False)\n",
    "    \n",
    "    \n",
    "    \n",
    "    "
   ]
  }
 ],
 "metadata": {
  "kernelspec": {
   "display_name": "Python 3",
   "language": "python",
   "name": "python3"
  },
  "language_info": {
   "codemirror_mode": {
    "name": "ipython",
    "version": 3
   },
   "file_extension": ".py",
   "mimetype": "text/x-python",
   "name": "python",
   "nbconvert_exporter": "python",
   "pygments_lexer": "ipython3",
   "version": "3.6.4"
  }
 },
 "nbformat": 4,
 "nbformat_minor": 2
}
