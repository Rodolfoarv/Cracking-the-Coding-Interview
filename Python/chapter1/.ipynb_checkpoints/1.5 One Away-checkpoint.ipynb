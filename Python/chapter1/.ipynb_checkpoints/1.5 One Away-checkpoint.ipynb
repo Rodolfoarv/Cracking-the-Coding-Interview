{
 "cells": [
  {
   "cell_type": "markdown",
   "metadata": {},
   "source": [
    "# 1.5 One away\n",
    "\n",
    "There are three types of edits that can be performed on strings: insert a character, remove a character, or replace a character. Given two strings, write a function to check if they are one edit or zero edits away"
   ]
  },
  {
   "cell_type": "code",
   "execution_count": 40,
   "metadata": {
    "collapsed": false
   },
   "outputs": [
    {
     "name": "stdout",
     "output_type": "stream",
     "text": [
      "p b\n"
     ]
    },
    {
     "data": {
      "text/plain": [
       "False"
      ]
     },
     "execution_count": 40,
     "metadata": {},
     "output_type": "execute_result"
    }
   ],
   "source": [
    "def oneAway(original, modification):\n",
    "    if abs(len(original) - len(modification)) > 1:\n",
    "        raise ValueError('The lenghts of the strings are different')\n",
    "        \n",
    "    if len(original) == len(modification) : #This means that the string is a modification\n",
    "        oneAway_modification(original,modification)\n",
    "    elif len(original) + 1 == len(modification):\n",
    "        oneAway_insertion(original, modification)\n",
    "    elif len(original) - 1 == len(modification):\n",
    "        oneAway_insertion(modification, original)\n",
    "    return False\n",
    "    \n",
    "        \n",
    "\n",
    "def one_edit_replace(s1, s2):\n",
    "    \n",
    "    edited = False\n",
    "    for c1, c2 in zip(s1, s2):\n",
    "        if c1 != c2:\n",
    "            if edited:\n",
    "                return False\n",
    "            edited = True\n",
    "    return True\n",
    "\n",
    "def oneAway_insertion(original,modification):\n",
    "    edited = False\n",
    "    i = j = 0\n",
    "    while i < len(original) and j < len(modification):\n",
    "        if original[i] != modification[j]:\n",
    "            if edited:\n",
    "                return False\n",
    "            edited = True\n",
    "            j += 1\n",
    "        else:\n",
    "            i += 1\n",
    "            j += 1\n",
    "    return True\n",
    "\n",
    "oneAway('pale', 'bale')"
   ]
  },
  {
   "cell_type": "code",
   "execution_count": 33,
   "metadata": {
    "collapsed": false
   },
   "outputs": [
    {
     "name": "stderr",
     "output_type": "stream",
     "text": [
      "F\n",
      "======================================================================\n",
      "FAIL: test_one_away (__main__.Test)\n",
      "----------------------------------------------------------------------\n",
      "Traceback (most recent call last):\n",
      "  File \"<ipython-input-33-c6894f0f7b21>\", line 12, in test_one_away\n",
      "    self.assertEqual(actual,expected)\n",
      "AssertionError: False != True\n",
      "\n",
      "----------------------------------------------------------------------\n",
      "Ran 1 test in 0.002s\n",
      "\n",
      "FAILED (failures=1)\n"
     ]
    }
   ],
   "source": [
    "import unittest\n",
    "\n",
    "class Test(unittest.TestCase):\n",
    "    data = [\n",
    "        ('pale', 'bale', True),\n",
    "        ('pales', 'pale', True),\n",
    "        ('pale', 'ple', True),\n",
    "        ('paleabc', 'pleabc', True),\n",
    "        ('pale', 'ble', False),\n",
    "        ('panda', 'pandas', True),\n",
    "        ('panda', 'banda', True),\n",
    "        ('panda', 'pand', True),\n",
    "        ('panda', 'band', False),\n",
    "    ]\n",
    "    \n",
    "    def test_one_away(self):\n",
    "        for s1, s2, expected in self.data:\n",
    "            actual = oneAway(s1,s2)\n",
    "            self.assertEqual(actual,expected)\n",
    "            \n",
    "if __name__ == '__main__':\n",
    "    unittest.main(argv=['first-arg-is-ignored'], exit=False)\n",
    "    "
   ]
  }
 ],
 "metadata": {
  "kernelspec": {
   "display_name": "Python 3",
   "language": "python",
   "name": "python3"
  },
  "language_info": {
   "codemirror_mode": {
    "name": "ipython",
    "version": 3
   },
   "file_extension": ".py",
   "mimetype": "text/x-python",
   "name": "python",
   "nbconvert_exporter": "python",
   "pygments_lexer": "ipython3",
   "version": "3.6.4"
  }
 },
 "nbformat": 4,
 "nbformat_minor": 2
}
