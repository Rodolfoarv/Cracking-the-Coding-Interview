{
 "cells": [
  {
   "cell_type": "markdown",
   "metadata": {},
   "source": [
    "# 1.4 Palindrome permutation\n",
    "\n",
    "Given a string write a function to check if it is a permutation of palindrome. A palindrome is a word or phrase that is the same forwards and backwards. A permutation is a rearrangement of letters. The palindrome does not need to be limited to just dictionary words"
   ]
  },
  {
   "cell_type": "code",
   "execution_count": 20,
   "metadata": {
    "collapsed": false
   },
   "outputs": [
    {
     "name": "stderr",
     "output_type": "stream",
     "text": [
      ".\n",
      "----------------------------------------------------------------------\n",
      "Ran 1 test in 0.001s\n",
      "\n",
      "OK\n"
     ]
    }
   ],
   "source": [
    "import unittest\n",
    "\n",
    "def isPalindromePermutation(sequence):\n",
    "    '''Checks if a given string is a permutation of a palindrome, the algorithm works as\n",
    "    follows: It creates a dictionary with the count of letters the stirng has. A palindrome\n",
    "    has the characteristic that every letter has an even count with exception of one of them\n",
    "    that may have an odd count depending if the length of the string is odd or even. \n",
    "    \n",
    "    If the length of the string is even: Every letter must appear an even number of times\n",
    "    to be a palindrome permutation\n",
    "    \n",
    "    If the length of the string is odd: Every letter must appear an even number of times\n",
    "    and one of them has to appear at most once as an odd count\n",
    "    \n",
    "    The complexity of the algorithm is O(n)'''\n",
    "    \n",
    "    sequence = sequence.replace(' ', '')\n",
    "    sequence = sequence.lower()\n",
    "    d = {}\n",
    "    for char in sequence:\n",
    "        d[char] = d.get(char, 0) + 1\n",
    "    \n",
    "    if (len(sequence) % 2 == 0): # Means the string is of even length, requieres to have an even number of letters\n",
    "        for value in d.values():\n",
    "            if value % 2 != 0:\n",
    "                return False\n",
    "    else:\n",
    "        no_mistakes = True\n",
    "        for value in d.values():\n",
    "            if value % 2 != 0:\n",
    "                if no_mistakes:\n",
    "                    no_mistakes = False\n",
    "                else:\n",
    "                    return False\n",
    "    return True\n",
    "    \n",
    "class Test(unittest.TestCase):\n",
    "    '''Test cases for 1.4 Palindrome permutation'''\n",
    "    \n",
    "    data = [\n",
    "        ('Tact Coa', True),\n",
    "        ('Rodolfo', False),\n",
    "        ('A but tuba', True),\n",
    "        ('A nut for a jar of tuna', True),\n",
    "        ('Amore Roma', True),\n",
    "        ('Anna', True),\n",
    "        ('Irene eats tuna', False),\n",
    "        ('This is not a palindrome', False)\n",
    "    ]\n",
    "    \n",
    "    def test_palindrome_permutation(self):\n",
    "        for test_string, expected in self.data:\n",
    "            actual = isPalindromePermutation(test_string)\n",
    "            self.assertEqual(actual, expected)\n",
    "            \n",
    "if __name__ == '__main__':\n",
    "    unittest.main(argv=['first-arg-is-ignored'], exit=False)\n",
    "    \n",
    "    \n",
    "    \n",
    "    \n",
    "    \n",
    "    \n"
   ]
  },
  {
   "cell_type": "markdown",
   "metadata": {},
   "source": [
    "# Complexity of the algorithm is O(n), first it needs to create the dictionary for every character present in the string which is O(n) second it needs to recur the dictionary which takes O(n) "
   ]
  }
 ],
 "metadata": {
  "kernelspec": {
   "display_name": "Python 3",
   "language": "python",
   "name": "python3"
  },
  "language_info": {
   "codemirror_mode": {
    "name": "ipython",
    "version": 3
   },
   "file_extension": ".py",
   "mimetype": "text/x-python",
   "name": "python",
   "nbconvert_exporter": "python",
   "pygments_lexer": "ipython3",
   "version": "3.6.4"
  }
 },
 "nbformat": 4,
 "nbformat_minor": 2
}
