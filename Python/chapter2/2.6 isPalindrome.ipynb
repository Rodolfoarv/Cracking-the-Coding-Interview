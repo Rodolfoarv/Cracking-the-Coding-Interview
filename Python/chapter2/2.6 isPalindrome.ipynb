{
 "cells": [
  {
   "cell_type": "markdown",
   "metadata": {},
   "source": [
    "# 2.6 isPalindrome\n",
    "\n",
    "Given a Linked List, return True if the Linked List is a palindrome or not."
   ]
  },
  {
   "cell_type": "markdown",
   "metadata": {},
   "source": [
    "# Methods being used on this exercise\n",
    "\n",
    "1. [First Method](#first_method) Finding the reverse of the Linked List and comparing it to the original Linked List\n",
    "2. [Second Method](#second_method)"
   ]
  },
  {
   "cell_type": "code",
   "execution_count": 2,
   "metadata": {
    "collapsed": false
   },
   "outputs": [],
   "source": [
    "class Node:\n",
    "    def __init__(self, data):\n",
    "        self.data = data\n",
    "        self.next = None\n",
    "        \n",
    "    def getData(self):\n",
    "        return self.data\n",
    "    \n",
    "    def getNext(self):\n",
    "        return self.next\n",
    "        \n",
    "    def setData(self,data):\n",
    "        self.data = data\n",
    "        \n",
    "    def setNext(self, data):\n",
    "        self.next = data\n",
    "        \n",
    "    def __str__(self):\n",
    "        return str(self.data)\n",
    "\n",
    "class LinkedList:\n",
    "    def __init__(self, values=None):\n",
    "        self.head = None\n",
    "        self.tail = None\n",
    "            \n",
    "    def __iter__(self):\n",
    "        current = self.head\n",
    "        while current:\n",
    "            yield current\n",
    "            current = current.next\n",
    "            \n",
    "    def __str__(self):\n",
    "        values = [str(x) for x in self]\n",
    "        return ' -> '.join(values)\n",
    "    \n",
    "    def __len__(self):\n",
    "        current = self.head\n",
    "        count = 0\n",
    "        while current.next != None:\n",
    "            count += 1\n",
    "            current = current.getNext()\n",
    "        return count\n",
    "    \n",
    "    def add(self,item):\n",
    "        if self.head is None:\n",
    "            self.tail = self.head = Node(item)\n",
    "        else:\n",
    "            self.tail.next = Node(item)\n",
    "            self.tail = self.tail.next\n",
    "        return self.tail\n",
    "        \n",
    "    def add_multiple(self,items):\n",
    "        for item in items:\n",
    "            self.add(item)\n",
    "\n",
    "    def search(self, item):\n",
    "        current = self.head\n",
    "        while current != None:\n",
    "            if current.getData() == item:\n",
    "                return True\n",
    "            current = current.getNext()\n",
    "        return False"
   ]
  },
  {
   "cell_type": "markdown",
   "metadata": {},
   "source": [
    "# First method:\n",
    "\n",
    "<a id=\"first_method\"> </a>\n",
    "\n",
    "Finding the reverse of the Linked List and comparing it with the original linked list"
   ]
  },
  {
   "cell_type": "code",
   "execution_count": 14,
   "metadata": {
    "collapsed": true
   },
   "outputs": [],
   "source": [
    "def reverse_and_clone(node):\n",
    "    \"\"\"\n",
    "    Given a node, reverses and clones the linked list.\n",
    "    Input: Node n\n",
    "    Output: Node n which corresponds to the reversed Linked List\n",
    "    \"\"\"\n",
    "    \n",
    "    head = None\n",
    "    \n",
    "    while node is not None:\n",
    "        a = Node(node.getData())\n",
    "        a.setNext(head)\n",
    "        head = a\n",
    "        node = node.next\n",
    "        \n",
    "    return head\n",
    "\n",
    "def isPalindrome(n1, n2):\n",
    "    \"\"\"\n",
    "    Given the original linked list and the reversed one determine if the linked list sequence\n",
    "    is a palindrome or not\n",
    "    \n",
    "    Input: n1, n2 original and reversed linked list head\n",
    "    Output: True or False\n",
    "    \"\"\"\n",
    "    \n",
    "    while n1 and n2: # Recur until one of them is none\n",
    "        if n1.getData() != n2.getData():\n",
    "            return False        \n",
    "        n1 = n1.getNext()\n",
    "        n2 = n2.getNext()\n",
    "    return True\n",
    "        \n",
    "        "
   ]
  },
  {
   "cell_type": "code",
   "execution_count": 24,
   "metadata": {
    "collapsed": false
   },
   "outputs": [
    {
     "name": "stderr",
     "output_type": "stream",
     "text": [
      "..\n",
      "----------------------------------------------------------------------\n",
      "Ran 2 tests in 0.002s\n",
      "\n",
      "OK\n"
     ]
    }
   ],
   "source": [
    "import unittest\n",
    "\n",
    "ll = LinkedList()\n",
    "ll.add_multiple([1,2,3,2,1])\n",
    "ll_false = LinkedList()\n",
    "ll_false.add_multiple([1,2,3,4,5,6,7,8,9])\n",
    "\n",
    "class Test_method1(unittest.TestCase):\n",
    "    palindromes = [(ll, True), (ll_false, False)]\n",
    "    \n",
    "    def test(self):\n",
    "        for linked_list, expected in self.palindromes:\n",
    "            reverse = reverse_and_clone(linked_list.head)\n",
    "            actual = isPalindrome(linked_list.head, reverse)\n",
    "            self.assertEqual(expected, actual)\n",
    "        \n",
    "\n",
    "if __name__ == '__main__':\n",
    "    unittest.main(argv=['first-arg-is-ignored'], exit=False)\n",
    "\n"
   ]
  },
  {
   "cell_type": "markdown",
   "metadata": {},
   "source": [
    "# Method 2: By using stacks\n",
    "\n",
    "<a id=\"second_method\"> </a>"
   ]
  },
  {
   "cell_type": "code",
   "execution_count": 49,
   "metadata": {
    "collapsed": false
   },
   "outputs": [
    {
     "ename": "NameError",
     "evalue": "name 'stack' is not defined",
     "output_type": "error",
     "traceback": [
      "\u001b[0;31m---------------------------------------------------------------------------\u001b[0m",
      "\u001b[0;31mNameError\u001b[0m                                 Traceback (most recent call last)",
      "\u001b[0;32m<ipython-input-49-0d4e682a10de>\u001b[0m in \u001b[0;36m<module>\u001b[0;34m()\u001b[0m\n\u001b[1;32m     79\u001b[0m \u001b[0mll_false\u001b[0m\u001b[0;34m.\u001b[0m\u001b[0madd_multiple\u001b[0m\u001b[0;34m(\u001b[0m\u001b[0;34m[\u001b[0m\u001b[0;36m1\u001b[0m\u001b[0;34m,\u001b[0m\u001b[0;36m2\u001b[0m\u001b[0;34m,\u001b[0m\u001b[0;36m3\u001b[0m\u001b[0;34m,\u001b[0m\u001b[0;36m4\u001b[0m\u001b[0;34m,\u001b[0m\u001b[0;36m5\u001b[0m\u001b[0;34m,\u001b[0m\u001b[0;36m6\u001b[0m\u001b[0;34m,\u001b[0m\u001b[0;36m7\u001b[0m\u001b[0;34m,\u001b[0m\u001b[0;36m8\u001b[0m\u001b[0;34m,\u001b[0m\u001b[0;36m9\u001b[0m\u001b[0;34m]\u001b[0m\u001b[0;34m)\u001b[0m\u001b[0;34m\u001b[0m\u001b[0m\n\u001b[1;32m     80\u001b[0m \u001b[0;34m\u001b[0m\u001b[0m\n\u001b[0;32m---> 81\u001b[0;31m \u001b[0mreverse_and_clone_stacks\u001b[0m\u001b[0;34m(\u001b[0m\u001b[0mll\u001b[0m\u001b[0;34m.\u001b[0m\u001b[0mhead\u001b[0m\u001b[0;34m)\u001b[0m\u001b[0;34m\u001b[0m\u001b[0m\n\u001b[0m\u001b[1;32m     82\u001b[0m \u001b[0;34m\u001b[0m\u001b[0m\n\u001b[1;32m     83\u001b[0m \u001b[0;34m\u001b[0m\u001b[0m\n",
      "\u001b[0;32m<ipython-input-49-0d4e682a10de>\u001b[0m in \u001b[0;36mreverse_and_clone_stacks\u001b[0;34m(node, length)\u001b[0m\n\u001b[1;32m     21\u001b[0m         \u001b[0ms\u001b[0m \u001b[0;34m=\u001b[0m \u001b[0mreverse_with_length\u001b[0m\u001b[0;34m(\u001b[0m\u001b[0mnode\u001b[0m\u001b[0;34m,\u001b[0m\u001b[0mlength\u001b[0m\u001b[0;34m)\u001b[0m\u001b[0;34m\u001b[0m\u001b[0m\n\u001b[1;32m     22\u001b[0m     \u001b[0;32melse\u001b[0m\u001b[0;34m:\u001b[0m\u001b[0;34m\u001b[0m\u001b[0m\n\u001b[0;32m---> 23\u001b[0;31m         \u001b[0ms\u001b[0m \u001b[0;34m=\u001b[0m \u001b[0mreverse_fast_slow_runner\u001b[0m\u001b[0;34m(\u001b[0m\u001b[0mnode\u001b[0m\u001b[0;34m)\u001b[0m\u001b[0;34m\u001b[0m\u001b[0m\n\u001b[0m\u001b[1;32m     24\u001b[0m     \u001b[0;32mreturn\u001b[0m \u001b[0ms\u001b[0m\u001b[0;34m\u001b[0m\u001b[0m\n\u001b[1;32m     25\u001b[0m \u001b[0;34m\u001b[0m\u001b[0m\n",
      "\u001b[0;32m<ipython-input-49-0d4e682a10de>\u001b[0m in \u001b[0;36mreverse_fast_slow_runner\u001b[0;34m(node)\u001b[0m\n\u001b[1;32m     56\u001b[0m \u001b[0;34m\u001b[0m\u001b[0m\n\u001b[1;32m     57\u001b[0m     \u001b[0;32mwhile\u001b[0m \u001b[0mfast\u001b[0m \u001b[0;32mand\u001b[0m \u001b[0mfast\u001b[0m\u001b[0;34m.\u001b[0m\u001b[0mnext\u001b[0m\u001b[0;34m:\u001b[0m\u001b[0;34m\u001b[0m\u001b[0m\n\u001b[0;32m---> 58\u001b[0;31m         \u001b[0mstack\u001b[0m\u001b[0;34m.\u001b[0m\u001b[0mpush\u001b[0m\u001b[0;34m(\u001b[0m\u001b[0mslow\u001b[0m\u001b[0;34m.\u001b[0m\u001b[0mgetData\u001b[0m\u001b[0;34m(\u001b[0m\u001b[0;34m)\u001b[0m\u001b[0;34m)\u001b[0m\u001b[0;34m\u001b[0m\u001b[0m\n\u001b[0m\u001b[1;32m     59\u001b[0m         \u001b[0mslow\u001b[0m \u001b[0;34m=\u001b[0m \u001b[0mslow\u001b[0m\u001b[0;34m.\u001b[0m\u001b[0mnext\u001b[0m\u001b[0;34m\u001b[0m\u001b[0m\n\u001b[1;32m     60\u001b[0m         \u001b[0mfast\u001b[0m \u001b[0;34m=\u001b[0m \u001b[0mfast\u001b[0m\u001b[0;34m.\u001b[0m\u001b[0mnext\u001b[0m\u001b[0;34m.\u001b[0m\u001b[0mnext\u001b[0m\u001b[0;34m\u001b[0m\u001b[0m\n",
      "\u001b[0;31mNameError\u001b[0m: name 'stack' is not defined"
     ]
    }
   ],
   "source": [
    "from pythonds.basic.stack import Stack\n",
    "import math\n",
    "\n",
    "def reverse_and_clone_stacks(node, length=None):\n",
    "    \"\"\"\n",
    "    Given the original linked list and the reversed one determine if the linked list sequence\n",
    "    is a palindrome or not. The reversed linked list will be stored in a stack, however two\n",
    "    methodologies will follow this procedure.\n",
    "    \n",
    "    - If the length of the linked list is given, insert half of the linked list onto the stack, \n",
    "    then begin comparing.\n",
    "    - If the length of the linked list is not given, use the slow and fast runner technique in which\n",
    "    the fast runner will travel faster on the linked list and determine the total length, once the\n",
    "    runner has finished, then we can begin comparing the linked list and the stacks.\n",
    "    \n",
    "    Input: n1, n2 original and reversed linked list head\n",
    "    Output: True or False\n",
    "    \"\"\"\n",
    "    \n",
    "    if length is not None:\n",
    "        s = reverse_with_length(node,length)\n",
    "    else:\n",
    "        s = reverse_fast_slow_runner(node)\n",
    "    return s\n",
    "\n",
    "def reverse_with_length(node, length):\n",
    "    \"\"\"\n",
    "    The length of the linked list is given, insert the half o the linked list onto the stack,\n",
    "    then begin comparing with the rest of the linked list values\n",
    "    \"\"\"\n",
    "    s = Stack()\n",
    "    half = (length//2) # 3\n",
    "    count = 0\n",
    "    not_passed = True\n",
    "    \n",
    "    while node is not None:\n",
    "        if count < half:\n",
    "            value = node.getData()\n",
    "            s.push(value)\n",
    "        else:\n",
    "            if length % 2 != 0 and not_passed:\n",
    "                node = node.getNext()\n",
    "                not_passed = False\n",
    "            value = s.pop()\n",
    "            print(\"Node comparison \" + str(value) + \" with \" + str(node.getData()))\n",
    "            if value != node.getData(): return False\n",
    "        node = node.getNext()\n",
    "        count += 1\n",
    "    return True\n",
    "\n",
    "def reverse_fast_slow_runner(node):\n",
    "    fast = node\n",
    "    slow = node\n",
    "    \n",
    "    s = Stack()\n",
    "    \n",
    "    while fast and fast.next:\n",
    "        stack.push(slow.getData())\n",
    "        slow = slow.next\n",
    "        fast = fast.next.next\n",
    "        \n",
    "    # If it has odd number of elements skip the middle element\n",
    "    \n",
    "    if fast:\n",
    "        slow = slow.next\n",
    "        \n",
    "    while slow:\n",
    "        top = stack.pop()\n",
    "        if top != slow.getData():\n",
    "            return False\n",
    "        slow = slow.getNext()\n",
    "    return True\n",
    "\n",
    "\n",
    "\n",
    "ll = LinkedList()\n",
    "ll.add_multiple([1,2,3,2,1])\n",
    "ll_false = LinkedList()\n",
    "ll_false.add_multiple([1,2,3,4,5,6,7,8,9])\n",
    "\n",
    "reverse_and_clone_stacks(ll.head)\n",
    "    \n",
    "    "
   ]
  },
  {
   "cell_type": "code",
   "execution_count": 36,
   "metadata": {
    "collapsed": false
   },
   "outputs": [
    {
     "data": {
      "text/plain": [
       "3"
      ]
     },
     "execution_count": 36,
     "metadata": {},
     "output_type": "execute_result"
    }
   ],
   "source": [
    "import math\n",
    "math.ceil(5/2)"
   ]
  }
 ],
 "metadata": {
  "kernelspec": {
   "display_name": "Python 3",
   "language": "python",
   "name": "python3"
  },
  "language_info": {
   "codemirror_mode": {
    "name": "ipython",
    "version": 3
   },
   "file_extension": ".py",
   "mimetype": "text/x-python",
   "name": "python",
   "nbconvert_exporter": "python",
   "pygments_lexer": "ipython3",
   "version": "3.6.4"
  }
 },
 "nbformat": 4,
 "nbformat_minor": 2
}
