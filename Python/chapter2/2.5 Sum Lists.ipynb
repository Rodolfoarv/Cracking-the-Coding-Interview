{
 "cells": [
  {
   "cell_type": "markdown",
   "metadata": {},
   "source": [
    "# Sum Lists\n",
    "\n",
    "You have two numbers represented by a linked list, where each node contains a single digit. The digits are stored in reverse order, such that the 1-s dight is at the head of the list. Wreite a function that adds the two number and returns the sum as a linked list\n",
    "\n",
    "**Example:**\n",
    "\n",
    "(7 -> 1 -> 6) + (5 -> 9 -> 2) = 617 + 295\n",
    "\n",
    "**Output:**\n",
    "\n",
    "(2 -> 1 -> 9) = 912"
   ]
  },
  {
   "cell_type": "code",
   "execution_count": 21,
   "metadata": {
    "collapsed": false
   },
   "outputs": [],
   "source": [
    "class Node:\n",
    "    def __init__(self, data):\n",
    "        self.data = data\n",
    "        self.next = None\n",
    "        \n",
    "    def getData(self):\n",
    "        return self.data\n",
    "    \n",
    "    def getNext(self):\n",
    "        return self.next\n",
    "        \n",
    "    def setData(self,data):\n",
    "        self.data = data\n",
    "        \n",
    "    def setNext(self, data):\n",
    "        self.next = data\n",
    "        \n",
    "    def __str__(self):\n",
    "        return str(self.data)\n",
    "\n",
    "class LinkedList:\n",
    "    def __init__(self, values=None):\n",
    "        self.head = None\n",
    "        self.tail = None\n",
    "            \n",
    "    def __iter__(self):\n",
    "        current = self.head\n",
    "        while current:\n",
    "            yield current\n",
    "            current = current.next\n",
    "            \n",
    "    def __str__(self):\n",
    "        values = [str(x) for x in self]\n",
    "        return ' -> '.join(values)\n",
    "    \n",
    "    def __len__(self):\n",
    "        current = self.head\n",
    "        count = 0\n",
    "        while current.next != None:\n",
    "            count += 1\n",
    "            current = current.getNext()\n",
    "        return count\n",
    "    \n",
    "    def add(self,item):\n",
    "        if self.head is None:\n",
    "            self.tail = self.head = Node(item)\n",
    "        else:\n",
    "            self.tail.next = Node(item)\n",
    "            self.tail = self.tail.next\n",
    "        return self.tail\n",
    "        \n",
    "    def add_multiple(self,items):\n",
    "        for item in items:\n",
    "            self.add(item)\n",
    "\n",
    "    def search(self, item):\n",
    "        current = self.head\n",
    "        while current != None:\n",
    "            if current.getData() == item:\n",
    "                return True\n",
    "            current = current.getNext()\n",
    "        return False\n",
    "    \n",
    "def partition(ll, partition):\n",
    "    \"\"\"Problem being solved for exercise 2.4 \"\"\"\n",
    "    current = ll.tail = ll.head\n",
    "    \n",
    "    while current:\n",
    "        next_node = current.next\n",
    "        if current.getData() < partition:\n",
    "            current.next = ll.head\n",
    "            ll.head = current\n",
    "        else:\n",
    "            ll.tail.next = current\n",
    "            ll.tail = current\n",
    "        current = next_node\n",
    "    if ll.tail.next is not None:\n",
    "        ll.tail.next = None\n",
    "            \n"
   ]
  },
  {
   "cell_type": "markdown",
   "metadata": {},
   "source": [
    "# Solution to the exercise"
   ]
  },
  {
   "cell_type": "code",
   "execution_count": 24,
   "metadata": {
    "collapsed": false
   },
   "outputs": [
    {
     "name": "stdout",
     "output_type": "stream",
     "text": [
      "2 -> 1 -> 9\n"
     ]
    }
   ],
   "source": [
    "def sum_lists(ll_a, ll_b):\n",
    "    a, b = ll_a.head, ll_b.head\n",
    "    carry = 0\n",
    "    result = LinkedList()\n",
    "    \n",
    "    while a or b:\n",
    "        cumulative = 0\n",
    "        if a is not None:\n",
    "            cumulative += a.getData()\n",
    "            a = a.getNext()\n",
    "        if b is not None:\n",
    "            cumulative += b.getData()\n",
    "            b = b.getNext()\n",
    "        cumulative += carry\n",
    "        result.add(cumulative % 10)\n",
    "        carry = cumulative // 10\n",
    "        \n",
    "    return result\n",
    "    \n",
    "    \n",
    "ll_a = LinkedList()\n",
    "ll_a.add_multiple([7,1,6])\n",
    "ll_b = LinkedList()\n",
    "ll_b.add_multiple([5,9,2])\n",
    "\n",
    "print(sum_lists(ll_a, ll_b))\n",
    "    \n",
    "\n",
    "    "
   ]
  }
 ],
 "metadata": {
  "kernelspec": {
   "display_name": "Python 3",
   "language": "python",
   "name": "python3"
  },
  "language_info": {
   "codemirror_mode": {
    "name": "ipython",
    "version": 3
   },
   "file_extension": ".py",
   "mimetype": "text/x-python",
   "name": "python",
   "nbconvert_exporter": "python",
   "pygments_lexer": "ipython3",
   "version": "3.6.4"
  }
 },
 "nbformat": 4,
 "nbformat_minor": 2
}
