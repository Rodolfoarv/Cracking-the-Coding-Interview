{
 "cells": [
  {
   "cell_type": "markdown",
   "metadata": {},
   "source": [
    "# Write code to remove the duplicates on an unsorted linked list\n",
    "\n",
    "# Complexity of the algorithm is O(n) because it has to recur through every element of the list"
   ]
  },
  {
   "cell_type": "code",
   "execution_count": 12,
   "metadata": {
    "collapsed": false
   },
   "outputs": [],
   "source": [
    "class Node:\n",
    "    def __init__(self, data):\n",
    "        self.data = data\n",
    "        self.next = None\n",
    "        \n",
    "    def getData(self):\n",
    "        return self.data\n",
    "    \n",
    "    def getNext(self):\n",
    "        return self.next\n",
    "        \n",
    "    def setData(self,data):\n",
    "        self.data = data\n",
    "        \n",
    "    def setNext(self, data):\n",
    "        self.next = data\n",
    "        \n",
    "    def __str__(self):\n",
    "        return str(self.data)\n",
    "\n",
    "class LinkedList:\n",
    "    def __init__(self, values=None):\n",
    "        self.head = None\n",
    "            \n",
    "    def __iter__(self):\n",
    "        current = self.head\n",
    "        while current:\n",
    "            yield current\n",
    "            current = current.next\n",
    "            \n",
    "    def __str__(self):\n",
    "        values = [str(x) for x in self]\n",
    "        return ' -> '.join(values)\n",
    "    \n",
    "    def __len__(self):\n",
    "        current = self.head\n",
    "        count = 0\n",
    "        while current.next != None:\n",
    "            count += 1\n",
    "            current = current.getNext()\n",
    "        return count\n",
    "    \n",
    "    def add(self,item):\n",
    "        temp = Node(item)\n",
    "        temp.setNext(self.head)\n",
    "        self.head = temp\n",
    "\n",
    "    def search(self, item):\n",
    "        current = self.head\n",
    "        while current != None:\n",
    "            if current.getData() == item:\n",
    "                return True\n",
    "            current = current.getNext()\n",
    "        return False\n",
    "    \n",
    "    def remove(self,item):\n",
    "        current = self.head\n",
    "        while current.getNext() != None:\n",
    "            if current.getNext().getData() == item:\n",
    "                current.setNext(current.getNext().getNext())\n",
    "                break\n",
    "            current = current.getNext()      \n",
    "            \n",
    "    def remove_duplicates(self):\n",
    "        '''Method that is used on this problem. Removes the duplicates on a linked list'''\n",
    "        \n",
    "        if self.head is None: return\n",
    "        d = {}\n",
    "        current = self.head\n",
    "        \n",
    "        while current.getNext() != None:\n",
    "            value = current.getNext().getData()\n",
    "            if value not in d:\n",
    "                d[value] = True\n",
    "                current = current.getNext()\n",
    "            else:\n",
    "                if current.getNext().getNext() is not None:\n",
    "                    current.setNext(current.getNext().getNext())\n",
    "                else:\n",
    "                    current.setNext(None)\n",
    "        return self\n",
    "    \n"
   ]
  },
  {
   "cell_type": "code",
   "execution_count": 23,
   "metadata": {
    "collapsed": false
   },
   "outputs": [
    {
     "name": "stdout",
     "output_type": "stream",
     "text": [
      "72 -> 35 -> 10 -> 24 -> 24 -> 57 -> 30 -> 24 -> 35 -> 72 -> 24\n",
      "72 -> 35 -> 10 -> 24 -> 57 -> 30 -> 72\n"
     ]
    }
   ],
   "source": [
    "ll = LinkedList()\n",
    "ll.add(24)\n",
    "ll.add(72)\n",
    "ll.add(35)\n",
    "ll.add(24)\n",
    "ll.add(30)\n",
    "ll.add(57)\n",
    "ll.add(24)\n",
    "ll.add(24)\n",
    "ll.add(10)\n",
    "ll.add(35)\n",
    "ll.add(72)\n",
    "\n",
    "print (ll)\n",
    "ll.remove_duplicates()\n",
    "print (ll)\n"
   ]
  },
  {
   "cell_type": "code",
   "execution_count": null,
   "metadata": {
    "collapsed": true
   },
   "outputs": [],
   "source": []
  }
 ],
 "metadata": {
  "kernelspec": {
   "display_name": "Python 3",
   "language": "python",
   "name": "python3"
  },
  "language_info": {
   "codemirror_mode": {
    "name": "ipython",
    "version": 3
   },
   "file_extension": ".py",
   "mimetype": "text/x-python",
   "name": "python",
   "nbconvert_exporter": "python",
   "pygments_lexer": "ipython3",
   "version": "3.6.4"
  }
 },
 "nbformat": 4,
 "nbformat_minor": 2
}
