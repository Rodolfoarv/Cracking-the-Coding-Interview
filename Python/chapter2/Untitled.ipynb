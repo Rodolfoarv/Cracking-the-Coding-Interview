{
 "cells": [
  {
   "cell_type": "markdown",
   "metadata": {},
   "source": [
    "# 2.2 Return Kth to last, Implement an algorithm to find the kth to last element of a singly linked list"
   ]
  },
  {
   "cell_type": "code",
   "execution_count": null,
   "metadata": {
    "collapsed": true
   },
   "outputs": [],
   "source": []
  },
  {
   "cell_type": "code",
   "execution_count": 1,
   "metadata": {
    "collapsed": true
   },
   "outputs": [],
   "source": [
    "class Node:\n",
    "    def __init__(self, data):\n",
    "        self.data = data\n",
    "        self.next = None\n",
    "        \n",
    "    def getData(self):\n",
    "        return self.data\n",
    "    \n",
    "    def getNext(self):\n",
    "        return self.next\n",
    "        \n",
    "    def setData(self,data):\n",
    "        self.data = data\n",
    "        \n",
    "    def setNext(self, data):\n",
    "        self.next = data\n",
    "        \n",
    "    def __str__(self):\n",
    "        return str(self.data)\n",
    "\n",
    "class LinkedList:\n",
    "    def __init__(self, values=None):\n",
    "        self.head = None\n",
    "            \n",
    "    def __iter__(self):\n",
    "        current = self.head\n",
    "        while current:\n",
    "            yield current\n",
    "            current = current.next\n",
    "            \n",
    "    def __str__(self):\n",
    "        values = [str(x) for x in self]\n",
    "        return ' -> '.join(values)\n",
    "    \n",
    "    def __len__(self):\n",
    "        current = self.head\n",
    "        count = 0\n",
    "        while current.next != None:\n",
    "            count += 1\n",
    "            current = current.getNext()\n",
    "        return count\n",
    "    \n",
    "    def add(self,item):\n",
    "        temp = Node(item)\n",
    "        temp.setNext(self.head)\n",
    "        self.head = temp\n",
    "\n",
    "    def search(self, item):\n",
    "        current = self.head\n",
    "        while current != None:\n",
    "            if current.getData() == item:\n",
    "                return True\n",
    "            current = current.getNext()\n",
    "        return False\n",
    "    \n",
    "    def remove(self,item):\n",
    "        current = self.head\n",
    "        while current.getNext() != None:\n",
    "            if current.getNext().getData() == item:\n",
    "                current.setNext(current.getNext().getNext())\n",
    "                break\n",
    "            current = current.getNext()      \n",
    "            \n",
    "    def remove_duplicates(self):\n",
    "        if self.head is None: return\n",
    "        d = {}\n",
    "        current = self.head\n",
    "        \n",
    "        while current.getNext() != None:\n",
    "            value = current.getNext().getData()\n",
    "            if value not in d:\n",
    "                d[value] = True\n",
    "                current = current.getNext()\n",
    "            else:\n",
    "                if current.getNext().getNext() is not None:\n",
    "                    current.setNext(current.getNext().getNext())\n",
    "                else:\n",
    "                    current.setNext(None)\n",
    "        return self\n",
    "    \n",
    "    def kth_to_last(k):\n",
    "        runner = current = self.head\n",
    "        \n",
    "        for i in range(k):\n",
    "            if runner is None:\n",
    "                return None\n",
    "            runner = runner.next\n",
    "        \n",
    "        while runner:\n",
    "            current = current.next\n",
    "            runner = runner.next\n",
    "        \n",
    "        return current\n",
    "    "
   ]
  },
  {
   "cell_type": "code",
   "execution_count": 6,
   "metadata": {
    "collapsed": false
   },
   "outputs": [
    {
     "name": "stdout",
     "output_type": "stream",
     "text": [
      "99 -> 0 -> 10\n"
     ]
    },
    {
     "ename": "TypeError",
     "evalue": "kth_to_last() takes 1 positional argument but 2 were given",
     "output_type": "error",
     "traceback": [
      "\u001b[0;31m---------------------------------------------------------------------------\u001b[0m",
      "\u001b[0;31mTypeError\u001b[0m                                 Traceback (most recent call last)",
      "\u001b[0;32m<ipython-input-6-7683ce78043e>\u001b[0m in \u001b[0;36m<module>\u001b[0;34m()\u001b[0m\n\u001b[1;32m      4\u001b[0m \u001b[0mll\u001b[0m\u001b[0;34m.\u001b[0m\u001b[0madd\u001b[0m\u001b[0;34m(\u001b[0m\u001b[0;36m99\u001b[0m\u001b[0;34m)\u001b[0m\u001b[0;34m\u001b[0m\u001b[0m\n\u001b[1;32m      5\u001b[0m \u001b[0mprint\u001b[0m\u001b[0;34m(\u001b[0m\u001b[0mll\u001b[0m\u001b[0;34m)\u001b[0m\u001b[0;34m\u001b[0m\u001b[0m\n\u001b[0;32m----> 6\u001b[0;31m \u001b[0mprint\u001b[0m\u001b[0;34m(\u001b[0m\u001b[0mll\u001b[0m\u001b[0;34m.\u001b[0m\u001b[0mkth_to_last\u001b[0m\u001b[0;34m(\u001b[0m\u001b[0;36m3\u001b[0m\u001b[0;34m)\u001b[0m\u001b[0;34m)\u001b[0m\u001b[0;34m\u001b[0m\u001b[0m\n\u001b[0m",
      "\u001b[0;31mTypeError\u001b[0m: kth_to_last() takes 1 positional argument but 2 were given"
     ]
    }
   ],
   "source": [
    "ll = LinkedList()\n",
    "ll.add(10)\n",
    "ll.add(0)\n",
    "ll.add(99)\n",
    "print(ll)\n",
    "print(ll.kth_to_last(3))"
   ]
  }
 ],
 "metadata": {
  "kernelspec": {
   "display_name": "Python 3",
   "language": "python",
   "name": "python3"
  },
  "language_info": {
   "codemirror_mode": {
    "name": "ipython",
    "version": 3
   },
   "file_extension": ".py",
   "mimetype": "text/x-python",
   "name": "python",
   "nbconvert_exporter": "python",
   "pygments_lexer": "ipython3",
   "version": "3.6.4"
  }
 },
 "nbformat": 4,
 "nbformat_minor": 2
}
